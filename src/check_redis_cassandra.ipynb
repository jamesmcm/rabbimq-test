{
 "cells": [
  {
   "cell_type": "code",
   "execution_count": 13,
   "metadata": {},
   "outputs": [],
   "source": [
    "import redis\n",
    "\n",
    "r = redis.Redis(\n",
    "    host='127.0.0.1',\n",
    "    charset=\"utf-8\", \n",
    "    decode_responses=True,\n",
    "    port=6379)"
   ]
  },
  {
   "cell_type": "code",
   "execution_count": 14,
   "metadata": {},
   "outputs": [
    {
     "data": {
      "text/plain": [
       "['crowdsourcer',\n",
       " 'severity',\n",
       " 'vulnerability_sev',\n",
       " 'severity_name',\n",
       " 'output',\n",
       " 'vulnerability_cs']"
      ]
     },
     "execution_count": 14,
     "metadata": {},
     "output_type": "execute_result"
    }
   ],
   "source": [
    "r.keys()"
   ]
  },
  {
   "cell_type": "code",
   "execution_count": 26,
   "metadata": {},
   "outputs": [
    {
     "name": "stdout",
     "output_type": "stream",
     "text": [
      "cs_id\tminor\tmedium\thigh\tcritical\n",
      "1\t0\t1100\t13000\t0\n",
      "2\t0\t0\t0\t39000\n",
      "3\t850\t2000\t5500\t0\n",
      "4\t1850\t400\t0\t15000\n",
      "5\t450\t2200\t12500\t11000\n",
      "6\t500\t2100\t0\t27000\n",
      "7\t0\t1300\t11000\t12000\n",
      "8\t0\t0\t13500\t0\n",
      "9\t550\t1100\t9000\t0\n",
      "10\t0\t2400\t0\t10000\n",
      "11\t0\t1900\t5500\t9000\n",
      "12\t1100\t800\t7000\t0\n",
      "13\t1150\t1100\t5000\t0\n",
      "14\t850\t0\t0\t0\n",
      "15\t1300\t3700\t6500\t15000\n",
      "16\t0\t1000\t7000\t0\n",
      "17\t450\t700\t0\t26000\n",
      "18\t0\t2100\t5500\t0\n",
      "19\t1300\t1500\t5500\t13000\n",
      "20\t1750\t700\t18000\t0\n",
      "21\t0\t0\t14000\t0\n",
      "22\t600\t0\t4500\t0\n"
     ]
    }
   ],
   "source": [
    "res = [\"1\"]\n",
    "print(\"cs_id\\tminor\\tmedium\\thigh\\tcritical\")\n",
    "s = \"\"\n",
    "i = 0\n",
    "for k,v in r.hscan('output', 0)[1].items():\n",
    "    if i % 4 == 0 and i != 0:\n",
    "        print(\"\\t\".join(res))\n",
    "        res = [k.split('_')[0]]\n",
    "        i = 0\n",
    "    res.append(v)\n",
    "    i += 1\n",
    "\n",
    "    "
   ]
  },
  {
   "cell_type": "code",
   "execution_count": 67,
   "metadata": {},
   "outputs": [
    {
     "data": {
      "text/plain": [
       "{'system_auth': <cassandra.metadata.KeyspaceMetadata at 0x7f0b7c1796d8>,\n",
       " 'system_schema': <cassandra.metadata.KeyspaceMetadata at 0x7f0b8c49efd0>,\n",
       " 'system_distributed': <cassandra.metadata.KeyspaceMetadata at 0x7f0b8c3a9f28>,\n",
       " 'system': <cassandra.metadata.KeyspaceMetadata at 0x7f0b5c340d30>,\n",
       " 'rmqtest': <cassandra.metadata.KeyspaceMetadata at 0x7f0b8c38ca90>,\n",
       " 'system_traces': <cassandra.metadata.KeyspaceMetadata at 0x7f0b8c38ccf8>}"
      ]
     },
     "execution_count": 67,
     "metadata": {},
     "output_type": "execute_result"
    }
   ],
   "source": [
    "from cassandra.cluster import Cluster\n",
    "\n",
    "cluster = Cluster()\n",
    "session = cluster.connect()\n",
    "\n",
    "cluster.metadata.keyspaces"
   ]
  },
  {
   "cell_type": "code",
   "execution_count": 68,
   "metadata": {},
   "outputs": [
    {
     "data": {
      "text/plain": [
       "<cassandra.cluster.ResultSet at 0x7f0b8c572780>"
      ]
     },
     "execution_count": 68,
     "metadata": {},
     "output_type": "execute_result"
    }
   ],
   "source": [
    "session.execute(\"\"\"USE rmqtest;\n",
    "\"\"\")"
   ]
  },
  {
   "cell_type": "code",
   "execution_count": 69,
   "metadata": {},
   "outputs": [
    {
     "name": "stdout",
     "output_type": "stream",
     "text": [
      "Row(cs_id=11, cs_name='5URPR153', critical_sum=9000, high_sum=5500, medium_sum=1900, minor_sum=0)\n",
      "Row(cs_id=9, cs_name='R1DDL3', critical_sum=0, high_sum=9000, medium_sum=1100, minor_sum=550)\n",
      "Row(cs_id=14, cs_name='4V474R', critical_sum=0, high_sum=0, medium_sum=0, minor_sum=850)\n",
      "Row(cs_id=22, cs_name='FR46M3N7', critical_sum=0, high_sum=4500, medium_sum=0, minor_sum=600)\n",
      "Row(cs_id=19, cs_name='4N63L', critical_sum=13000, high_sum=5500, medium_sum=1500, minor_sum=1300)\n",
      "Row(cs_id=1, cs_name='0BL1V10N', critical_sum=0, high_sum=13000, medium_sum=1100, minor_sum=0)\n",
      "Row(cs_id=8, cs_name='H0LL0W', critical_sum=0, high_sum=13500, medium_sum=0, minor_sum=0)\n",
      "Row(cs_id=16, cs_name='PH4N745M', critical_sum=0, high_sum=7000, medium_sum=1000, minor_sum=0)\n",
      "Row(cs_id=23, cs_name='H04X', critical_sum=0, high_sum=0, medium_sum=1200, minor_sum=500)\n",
      "Row(cs_id=13, cs_name='V0Y463', critical_sum=0, high_sum=5000, medium_sum=1100, minor_sum=1150)\n",
      "Row(cs_id=12, cs_name='R1DDL3', critical_sum=0, high_sum=7000, medium_sum=800, minor_sum=1100)\n",
      "Row(cs_id=6, cs_name='PR4NK573R', critical_sum=27000, high_sum=0, medium_sum=2100, minor_sum=500)\n",
      "Row(cs_id=21, cs_name='M07H3R5H1P', critical_sum=0, high_sum=14000, medium_sum=0, minor_sum=0)\n",
      "Row(cs_id=5, cs_name='PH4N70M', critical_sum=11000, high_sum=12500, medium_sum=2200, minor_sum=450)\n",
      "Row(cs_id=7, cs_name='B173', critical_sum=12000, high_sum=11000, medium_sum=1300, minor_sum=0)\n",
      "Row(cs_id=10, cs_name='BL4D3', critical_sum=10000, high_sum=0, medium_sum=2400, minor_sum=0)\n",
      "Row(cs_id=4, cs_name='5K1PP3R', critical_sum=15000, high_sum=0, medium_sum=400, minor_sum=1850)\n",
      "Row(cs_id=2, cs_name='F474 M0R64N4', critical_sum=39000, high_sum=0, medium_sum=0, minor_sum=0)\n",
      "Row(cs_id=18, cs_name='P3RPL3X', critical_sum=0, high_sum=5500, medium_sum=2100, minor_sum=0)\n",
      "Row(cs_id=3, cs_name='4N0M4LY', critical_sum=0, high_sum=5500, medium_sum=2000, minor_sum=850)\n",
      "Row(cs_id=20, cs_name='D0PP3L64N63R', critical_sum=0, high_sum=18000, medium_sum=700, minor_sum=1750)\n",
      "Row(cs_id=15, cs_name='N1X', critical_sum=15000, high_sum=6500, medium_sum=3700, minor_sum=1300)\n",
      "Row(cs_id=17, cs_name='CH453', critical_sum=26000, high_sum=0, medium_sum=700, minor_sum=450)\n"
     ]
    }
   ],
   "source": [
    "r = session.execute(\"\"\"\n",
    "SELECT * FROM crowdsourcer_karma_distribution;\n",
    "\"\"\")\n",
    "\n",
    "for row in r:\n",
    "    print(row)"
   ]
  }
 ],
 "metadata": {
  "kernelspec": {
   "display_name": "Python 3",
   "language": "python",
   "name": "python3"
  },
  "language_info": {
   "codemirror_mode": {
    "name": "ipython",
    "version": 3
   },
   "file_extension": ".py",
   "mimetype": "text/x-python",
   "name": "python",
   "nbconvert_exporter": "python",
   "pygments_lexer": "ipython3",
   "version": "3.7.3"
  }
 },
 "nbformat": 4,
 "nbformat_minor": 2
}
